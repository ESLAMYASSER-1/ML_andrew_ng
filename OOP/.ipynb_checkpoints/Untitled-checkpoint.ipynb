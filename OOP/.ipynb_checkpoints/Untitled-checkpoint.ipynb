{
 "cells": [
  {
   "cell_type": "code",
   "execution_count": 11,
   "id": "9ea16ec0",
   "metadata": {},
   "outputs": [],
   "source": [
    "import csv"
   ]
  },
  {
   "cell_type": "code",
   "execution_count": 49,
   "id": "efd734b2",
   "metadata": {},
   "outputs": [],
   "source": [
    "class Items:\n",
    "    all=[]\n",
    "    def __init__(self,name,price, quantity):\n",
    "        self.name=name\n",
    "        self.price= price \n",
    "        self.quantity=quantity\n",
    "        Items.all.append(self)\n",
    "    def __repr__(self):\n",
    "        return f\"item({self.name}, {self.price}, {self.quantity})\"\n",
    "    @classmethod\n",
    "    def ifc(cls):\n",
    "            with open(\"Items.csv\",\"r\") as f:\n",
    "                reader = csv.DictReader(f)\n",
    "                itemsdict=list(reader)\n",
    "                \n",
    "            for item in itemsdict:\n",
    "                Items(\n",
    "                    name=item.get(\"name\"),\n",
    "                    price=float(item.get(\"price\")),\n",
    "                    quantity=float(item.get(\"quantity\")),\n",
    "                )\n",
    "    @staticmethod\n",
    "    def is_integer(num):\n",
    "        if isinstance(num, float):\n",
    "            return num.is_integer()\n",
    "        elif isinstance(num,int):\n",
    "            return True\n",
    "        else:\n",
    "            return False\n",
    "        \n",
    "\n",
    "\n",
    "for ele in Items.all:\n",
    "    if ele.number == 4:\n",
    "        ele.number =2\n",
    "    \n",
    "Items.ifc()"
   ]
  },
  {
   "cell_type": "code",
   "execution_count": 50,
   "id": "94e0801a",
   "metadata": {},
   "outputs": [
    {
     "data": {
      "text/plain": [
       "True"
      ]
     },
     "execution_count": 50,
     "metadata": {},
     "output_type": "execute_result"
    }
   ],
   "source": [
    "Items.is_integer(7.0)"
   ]
  },
  {
   "cell_type": "code",
   "execution_count": 51,
   "id": "2716cd3c",
   "metadata": {},
   "outputs": [
    {
     "data": {
      "text/plain": [
       "[item(phone, 400.0, 1.0),\n",
       " item(pc, 1050.0, 4.0),\n",
       " item(laptop, 450.0, 3.0),\n",
       " item(cable, 10.0, 20.0),\n",
       " item(charger, 30.0, 20.0),\n",
       " item(mouse, 120.0, 12.0)]"
      ]
     },
     "execution_count": 51,
     "metadata": {},
     "output_type": "execute_result"
    }
   ],
   "source": [
    "Items.all"
   ]
  }
 ],
 "metadata": {
  "kernelspec": {
   "display_name": "Python 3 (ipykernel)",
   "language": "python",
   "name": "python3"
  },
  "language_info": {
   "codemirror_mode": {
    "name": "ipython",
    "version": 3
   },
   "file_extension": ".py",
   "mimetype": "text/x-python",
   "name": "python",
   "nbconvert_exporter": "python",
   "pygments_lexer": "ipython3",
   "version": "3.9.13"
  }
 },
 "nbformat": 4,
 "nbformat_minor": 5
}
