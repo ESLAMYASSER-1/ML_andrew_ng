{
 "cells": [
  {
   "cell_type": "code",
   "execution_count": 4,
   "id": "9add97cc",
   "metadata": {
    "scrolled": true
   },
   "outputs": [
    {
     "name": "stdout",
     "output_type": "stream",
     "text": [
      "Ana, bahebk\n",
      "Ana, ba3sh2ek\n",
      "Ana, bamooot feky\n"
     ]
    }
   ],
   "source": [
    "words= [\"bahebk\",\"ba3sh2ek\",\"bamooot feky\"]\n",
    "for i in words:\n",
    "    print(f\"Ana, {i}\")"
   ]
  },
  {
   "cell_type": "code",
   "execution_count": null,
   "id": "78c24d9e",
   "metadata": {},
   "outputs": [],
   "source": []
  }
 ],
 "metadata": {
  "kernelspec": {
   "display_name": "Python 3 (ipykernel)",
   "language": "python",
   "name": "python3"
  },
  "language_info": {
   "codemirror_mode": {
    "name": "ipython",
    "version": 3
   },
   "file_extension": ".py",
   "mimetype": "text/x-python",
   "name": "python",
   "nbconvert_exporter": "python",
   "pygments_lexer": "ipython3",
   "version": "3.9.13"
  }
 },
 "nbformat": 4,
 "nbformat_minor": 5
}
