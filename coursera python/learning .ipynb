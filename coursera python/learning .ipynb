{
 "cells": [
  {
   "cell_type": "code",
   "execution_count": 7,
   "id": "0bf5ba1a",
   "metadata": {},
   "outputs": [
    {
     "name": "stdout",
     "output_type": "stream",
     "text": [
      "list index out of range\n"
     ]
    }
   ],
   "source": [
    "ls =[1,3,4,5,6,]\n",
    "try:\n",
    "    print(ls[len(ls)])\n",
    "except Exception as a :\n",
    "    print(a)"
   ]
  },
  {
   "cell_type": "code",
   "execution_count": 12,
   "id": "a2be3928",
   "metadata": {},
   "outputs": [
    {
     "name": "stdout",
     "output_type": "stream",
     "text": [
      "[1, 3, 5, 7]\n"
     ]
    }
   ],
   "source": [
    "numbers=[1,2,3,4,5,6,7]\n",
    "print(list(n for n in numbers if n %2 !=0))"
   ]
  },
  {
   "cell_type": "code",
   "execution_count": 18,
   "id": "e1e21952",
   "metadata": {},
   "outputs": [
    {
     "name": "stdout",
     "output_type": "stream",
     "text": [
      "enter a number12\n",
      "even\n"
     ]
    }
   ],
   "source": [
    "def even_or_odd(n):\n",
    "    print(\"even\")if n%2==0 else print(\"odd\")\n",
    "even_or_odd(int(input(\"enter a number\")))"
   ]
  },
  {
   "cell_type": "code",
   "execution_count": 27,
   "id": "2f613427",
   "metadata": {},
   "outputs": [
    {
     "name": "stdout",
     "output_type": "stream",
     "text": [
      "-2.2\n"
     ]
    }
   ],
   "source": [
    "numbers =[5,3,8,-1,-2.2,0]\n",
    "for n in numbers:\n",
    "    for num in numbers:\n",
    "        if num < n:\n",
    "            min = num \n",
    "print(min)\n"
   ]
  },
  {
   "cell_type": "code",
   "execution_count": 39,
   "id": "0ded3751",
   "metadata": {},
   "outputs": [
    {
     "name": "stdout",
     "output_type": "stream",
     "text": [
      "libmje!bmj!bmfsblz"
     ]
    }
   ],
   "source": [
    "name =\"khalid ali aleraky\"\n",
    "for c in name:\n",
    "    print(chr(ord(c)+1),end=\"\")"
   ]
  },
  {
   "cell_type": "code",
   "execution_count": 44,
   "id": "3d14ed41",
   "metadata": {},
   "outputs": [
    {
     "name": "stdout",
     "output_type": "stream",
     "text": [
      "enter your name:ok\n",
      "o k \n",
      " your name length is:  2\n"
     ]
    }
   ],
   "source": [
    "name = input(\"enter your name:\")\n",
    "for c in name:\n",
    "    print(c , end=\" \")\n",
    "print (\"\\n your name length is: \",len(name))"
   ]
  },
  {
   "cell_type": "code",
   "execution_count": 46,
   "id": "f20c09d2",
   "metadata": {},
   "outputs": [
    {
     "name": "stdout",
     "output_type": "stream",
     "text": [
      "enter your password: hi\n",
      "please enter the correct password: wlee\n",
      "please enter the correct password: mm\n",
      "please enter the correct password: fasjfkja\n",
      "please enter the correct password: adgafs\n",
      "please enter the correct password: dasf\n",
      "please enter the correct password: asfasf\n",
      "please enter the correct password: as\n",
      "please enter the correct password: f\n",
      "please enter the correct password: asdfas\n",
      "please enter the correct password: f\n",
      "please enter the correct password: \n",
      "please enter the correct password: \n",
      "please enter the correct password: fasf\n",
      "please enter the correct password: asf\n",
      "please enter the correct password: asfa\n",
      "please enter the correct password: sf\n",
      "please enter the correct password: \n",
      "please enter the correct password: eslam\n",
      "welcome\n"
     ]
    }
   ],
   "source": [
    "password = input(\"enter your password: \")\n",
    "while password != \"eslam\":\n",
    "    password = input(\"please enter the correct password: \")\n",
    "else: \n",
    "    print(\"welcome\")"
   ]
  },
  {
   "cell_type": "code",
   "execution_count": 53,
   "id": "5d1eaab7",
   "metadata": {},
   "outputs": [
    {
     "name": "stdout",
     "output_type": "stream",
     "text": [
      "It's table for: 1 number\n",
      "\t 1 * 1 =  1\n",
      "\t 1 * 2 =  2\n",
      "\t 1 * 3 =  3\n",
      "\t 1 * 4 =  4\n",
      "\t 1 * 5 =  5\n",
      "\t 1 * 6 =  6\n",
      "\t 1 * 7 =  7\n",
      "\t 1 * 8 =  8\n",
      "\t 1 * 9 =  9\n",
      "\t 1 * 10 =  10\n",
      "\t 1 * 11 =  11\n",
      "\t 1 * 12 =  12\n",
      "It's table for: 2 number\n",
      "\t 2 * 1 =  2\n",
      "\t 2 * 2 =  4\n",
      "\t 2 * 3 =  6\n",
      "\t 2 * 4 =  8\n",
      "\t 2 * 5 =  10\n",
      "\t 2 * 6 =  12\n",
      "\t 2 * 7 =  14\n",
      "\t 2 * 8 =  16\n",
      "\t 2 * 9 =  18\n",
      "\t 2 * 10 =  20\n",
      "\t 2 * 11 =  22\n",
      "\t 2 * 12 =  24\n",
      "It's table for: 3 number\n",
      "\t 3 * 1 =  3\n",
      "\t 3 * 2 =  6\n",
      "\t 3 * 3 =  9\n",
      "\t 3 * 4 =  12\n",
      "\t 3 * 5 =  15\n",
      "\t 3 * 6 =  18\n",
      "\t 3 * 7 =  21\n",
      "\t 3 * 8 =  24\n",
      "\t 3 * 9 =  27\n",
      "\t 3 * 10 =  30\n",
      "\t 3 * 11 =  33\n",
      "\t 3 * 12 =  36\n",
      "It's table for: 4 number\n",
      "\t 4 * 1 =  4\n",
      "\t 4 * 2 =  8\n",
      "\t 4 * 3 =  12\n",
      "\t 4 * 4 =  16\n",
      "\t 4 * 5 =  20\n",
      "\t 4 * 6 =  24\n",
      "\t 4 * 7 =  28\n",
      "\t 4 * 8 =  32\n",
      "\t 4 * 9 =  36\n",
      "\t 4 * 10 =  40\n",
      "\t 4 * 11 =  44\n",
      "\t 4 * 12 =  48\n",
      "It's table for: 5 number\n",
      "\t 5 * 1 =  5\n",
      "\t 5 * 2 =  10\n",
      "\t 5 * 3 =  15\n",
      "\t 5 * 4 =  20\n",
      "\t 5 * 5 =  25\n",
      "\t 5 * 6 =  30\n",
      "\t 5 * 7 =  35\n",
      "\t 5 * 8 =  40\n",
      "\t 5 * 9 =  45\n",
      "\t 5 * 10 =  50\n",
      "\t 5 * 11 =  55\n",
      "\t 5 * 12 =  60\n",
      "It's table for: 6 number\n",
      "\t 6 * 1 =  6\n",
      "\t 6 * 2 =  12\n",
      "\t 6 * 3 =  18\n",
      "\t 6 * 4 =  24\n",
      "\t 6 * 5 =  30\n",
      "\t 6 * 6 =  36\n",
      "\t 6 * 7 =  42\n",
      "\t 6 * 8 =  48\n",
      "\t 6 * 9 =  54\n",
      "\t 6 * 10 =  60\n",
      "\t 6 * 11 =  66\n",
      "\t 6 * 12 =  72\n",
      "It's table for: 7 number\n",
      "\t 7 * 1 =  7\n",
      "\t 7 * 2 =  14\n",
      "\t 7 * 3 =  21\n",
      "\t 7 * 4 =  28\n",
      "\t 7 * 5 =  35\n",
      "\t 7 * 6 =  42\n",
      "\t 7 * 7 =  49\n",
      "\t 7 * 8 =  56\n",
      "\t 7 * 9 =  63\n",
      "\t 7 * 10 =  70\n",
      "\t 7 * 11 =  77\n",
      "\t 7 * 12 =  84\n",
      "It's table for: 8 number\n",
      "\t 8 * 1 =  8\n",
      "\t 8 * 2 =  16\n",
      "\t 8 * 3 =  24\n",
      "\t 8 * 4 =  32\n",
      "\t 8 * 5 =  40\n",
      "\t 8 * 6 =  48\n",
      "\t 8 * 7 =  56\n",
      "\t 8 * 8 =  64\n",
      "\t 8 * 9 =  72\n",
      "\t 8 * 10 =  80\n",
      "\t 8 * 11 =  88\n",
      "\t 8 * 12 =  96\n",
      "It's table for: 9 number\n",
      "\t 9 * 1 =  9\n",
      "\t 9 * 2 =  18\n",
      "\t 9 * 3 =  27\n",
      "\t 9 * 4 =  36\n",
      "\t 9 * 5 =  45\n",
      "\t 9 * 6 =  54\n",
      "\t 9 * 7 =  63\n",
      "\t 9 * 8 =  72\n",
      "\t 9 * 9 =  81\n",
      "\t 9 * 10 =  90\n",
      "\t 9 * 11 =  99\n",
      "\t 9 * 12 =  108\n",
      "It's table for: 10 number\n",
      "\t 10 * 1 =  10\n",
      "\t 10 * 2 =  20\n",
      "\t 10 * 3 =  30\n",
      "\t 10 * 4 =  40\n",
      "\t 10 * 5 =  50\n",
      "\t 10 * 6 =  60\n",
      "\t 10 * 7 =  70\n",
      "\t 10 * 8 =  80\n",
      "\t 10 * 9 =  90\n",
      "\t 10 * 10 =  100\n",
      "\t 10 * 11 =  110\n",
      "\t 10 * 12 =  120\n",
      "It's table for: 11 number\n",
      "\t 11 * 1 =  11\n",
      "\t 11 * 2 =  22\n",
      "\t 11 * 3 =  33\n",
      "\t 11 * 4 =  44\n",
      "\t 11 * 5 =  55\n",
      "\t 11 * 6 =  66\n",
      "\t 11 * 7 =  77\n",
      "\t 11 * 8 =  88\n",
      "\t 11 * 9 =  99\n",
      "\t 11 * 10 =  110\n",
      "\t 11 * 11 =  121\n",
      "\t 11 * 12 =  132\n",
      "It's table for: 12 number\n",
      "\t 12 * 1 =  12\n",
      "\t 12 * 2 =  24\n",
      "\t 12 * 3 =  36\n",
      "\t 12 * 4 =  48\n",
      "\t 12 * 5 =  60\n",
      "\t 12 * 6 =  72\n",
      "\t 12 * 7 =  84\n",
      "\t 12 * 8 =  96\n",
      "\t 12 * 9 =  108\n",
      "\t 12 * 10 =  120\n",
      "\t 12 * 11 =  132\n",
      "\t 12 * 12 =  144\n"
     ]
    }
   ],
   "source": [
    "for n in range(1,13):\n",
    "    print(\"It\\'s table for:\",n,\"number\")\n",
    "    for i in range(1,13):\n",
    "        print(\"\\t\",n,\"*\",i,\"= \",n*i)"
   ]
  },
  {
   "cell_type": "code",
   "execution_count": 63,
   "id": "43b98c08",
   "metadata": {},
   "outputs": [
    {
     "name": "stdout",
     "output_type": "stream",
     "text": [
      "enter a number: 1\n",
      "enter a number: 2\n",
      "enter a number: 3\n",
      "enter a number: -1\n",
      "your numbers are: [1, 2, 3]\n",
      "2.0\n"
     ]
    }
   ],
   "source": [
    "numbers=[]\n",
    "while True:\n",
    "    inp = int(input(\"enter a number: \"))\n",
    "    if inp == -1:\n",
    "        break\n",
    "    numbers.append(inp)\n",
    "x=0\n",
    "for n in numbers:\n",
    "   x +=n \n",
    "print(\"your numbers are: {}\".format(numbers))\n",
    "print(x/len(numbers))"
   ]
  }
 ],
 "metadata": {
  "kernelspec": {
   "display_name": "Python 3 (ipykernel)",
   "language": "python",
   "name": "python3"
  },
  "language_info": {
   "codemirror_mode": {
    "name": "ipython",
    "version": 3
   },
   "file_extension": ".py",
   "mimetype": "text/x-python",
   "name": "python",
   "nbconvert_exporter": "python",
   "pygments_lexer": "ipython3",
   "version": "3.9.13"
  }
 },
 "nbformat": 4,
 "nbformat_minor": 5
}
