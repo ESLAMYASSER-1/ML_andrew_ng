{
 "cells": [
  {
   "cell_type": "code",
   "execution_count": 11,
   "id": "a8d6f5d9",
   "metadata": {},
   "outputs": [],
   "source": [
    "import csv"
   ]
  },
  {
   "cell_type": "code",
   "execution_count": 178,
   "id": "5af8c2c8",
   "metadata": {},
   "outputs": [
    {
     "data": {
      "text/plain": [
       "[Items(phone, 400.0, 1.0),\n",
       " Items(pc, 1050.0, 4.0),\n",
       " Items(laptop, 450.0, 3.0),\n",
       " Items(cable, 10.0, 20.0),\n",
       " Items(charger, 30.0, 20.0),\n",
       " Items(mouse, 120.0, 12.0),\n",
       " Items(laptop, 400, 6)]"
      ]
     },
     "execution_count": 178,
     "metadata": {},
     "output_type": "execute_result"
    }
   ],
   "source": [
    "class Items:\n",
    "    all=[]\n",
    "    def __init__(self,name,price, quantity):\n",
    "        self.name=name\n",
    "        self.price= price \n",
    "        self.quantity=quantity\n",
    "        Items.all.append(self)\n",
    "    def __repr__(self):\n",
    "        return f\"{self.__class__.__name__}({self.name}, {self.price}, {self.quantity})\"\n",
    "    @classmethod\n",
    "    def ifc(cls):\n",
    "            with open(\"Items.csv\",\"r\") as f:\n",
    "                reader = csv.DictReader(f)\n",
    "                itemsdict=list(reader)\n",
    "                \n",
    "            for item in itemsdict:\n",
    "                Items(\n",
    "                    name=item.get(\"name\"),\n",
    "                    price=float(item.get(\"price\")),\n",
    "                    quantity=float(item.get(\"quantity\")),\n",
    "                )\n",
    "    @staticmethod\n",
    "    def is_integer(num):\n",
    "        if isinstance(num, float):\n",
    "            return num.is_integer()\n",
    "        elif isinstance(num,int):\n",
    "            return True\n",
    "        else:\n",
    "            return False\n",
    "        \n",
    "Items.ifc()\n",
    "item1 = Items(\"laptop\",400,6)\n",
    "\n",
    "Items.all"
   ]
  },
  {
   "cell_type": "code",
   "execution_count": 179,
   "id": "2d1c96d0",
   "metadata": {},
   "outputs": [
    {
     "data": {
      "text/plain": [
       "[Phone(vivo, 200, 5)]"
      ]
     },
     "execution_count": 179,
     "metadata": {},
     "output_type": "execute_result"
    }
   ],
   "source": [
    "class Phone(Items):\n",
    "    all=[]\n",
    "    def __init__(self,name,price, quantity):\n",
    "        super().__init__(name,price,quantity)\n",
    "        Phone.all.append(self)\n",
    "        Items.all.append(self)\n",
    "\n",
    "phone1 = Phone(\"vivo\",200,5)\n",
    "Phone.all"
   ]
  }
 ],
 "metadata": {
  "kernelspec": {
   "display_name": "Python 3 (ipykernel)",
   "language": "python",
   "name": "python3"
  },
  "language_info": {
   "codemirror_mode": {
    "name": "ipython",
    "version": 3
   },
   "file_extension": ".py",
   "mimetype": "text/x-python",
   "name": "python",
   "nbconvert_exporter": "python",
   "pygments_lexer": "ipython3",
   "version": "3.9.13"
  }
 },
 "nbformat": 4,
 "nbformat_minor": 5
}
