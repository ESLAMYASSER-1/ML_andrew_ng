{
 "cells": [
  {
   "cell_type": "code",
   "execution_count": 4,
   "id": "c4c77167",
   "metadata": {
    "scrolled": true
   },
   "outputs": [
    {
     "name": "stdout",
     "output_type": "stream",
     "text": [
      "Ana, bahebk\n",
      "Ana, ba3sh2ek\n",
      "Ana, bamooot feky\n"
     ]
    }
   ],
   "source": [
    "words= [\"bahebk\",\"ba3sh2ek\",\"bamooot feky\"]\n",
    "for i in words:\n",
    "    print(f\"Ana, {i}\")"
   ]
  },
  {
   "cell_type": "code",
   "execution_count": null,
   "id": "6afd75cf",
   "metadata": {},
   "outputs": [],
   "source": [
    "الا الا الا 😂😂😂😂😂😂 \n",
    "انا نيتي مش عارف اسلكها \n",
    "اتهدوا بقي \n",
    "بتقراي بصوت عالي ليه ؟\n",
    "المفروض هي متسمعش يا غبيه \n"
   ]
  }
 ],
 "metadata": {
  "kernelspec": {
   "display_name": "Python 3 (ipykernel)",
   "language": "python",
   "name": "python3"
  },
  "language_info": {
   "codemirror_mode": {
    "name": "ipython",
    "version": 3
   },
   "file_extension": ".py",
   "mimetype": "text/x-python",
   "name": "python",
   "nbconvert_exporter": "python",
   "pygments_lexer": "ipython3",
   "version": "3.9.13"
  }
 },
 "nbformat": 4,
 "nbformat_minor": 5
}
