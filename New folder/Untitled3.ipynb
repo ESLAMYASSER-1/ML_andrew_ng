{
 "cells": [
  {
   "cell_type": "code",
   "execution_count": null,
   "id": "1aee2456",
   "metadata": {},
   "outputs": [],
   "source": [
    "from turtle import Turtle ,Screen\n",
    "T = Turtle()\n",
    "\n",
    "screen = Screen()\n",
    "screen.exitonclick()"
   ]
  },
  {
   "cell_type": "code",
   "execution_count": null,
   "id": "ea52c961",
   "metadata": {},
   "outputs": [],
   "source": []
  }
 ],
 "metadata": {
  "kernelspec": {
   "display_name": "Python 3 (ipykernel)",
   "language": "python",
   "name": "python3"
  },
  "language_info": {
   "codemirror_mode": {
    "name": "ipython",
    "version": 3
   },
   "file_extension": ".py",
   "mimetype": "text/x-python",
   "name": "python",
   "nbconvert_exporter": "python",
   "pygments_lexer": "ipython3",
   "version": "3.9.13"
  }
 },
 "nbformat": 4,
 "nbformat_minor": 5
}
