{
 "cells": [
  {
   "cell_type": "code",
   "execution_count": 57,
   "id": "8aa42906",
   "metadata": {},
   "outputs": [
    {
     "name": "stdout",
     "output_type": "stream",
     "text": [
      "enter seed1234\n",
      "4\n"
     ]
    }
   ],
   "source": [
    "import random \n",
    "seed = int(input(\"enter seed\"))\n",
    "random.seed(seed)\n",
    "\n",
    "side = random.randint(1,6)\n",
    "print(side)"
   ]
  },
  {
   "cell_type": "code",
   "execution_count": 60,
   "id": "f4fa163d",
   "metadata": {},
   "outputs": [
    {
     "name": "stdout",
     "output_type": "stream",
     "text": [
      "[12, 12, 3, 4, 5, 6]\n"
     ]
    }
   ],
   "source": [
    "lst = [1,2,3,4,5,6]\n",
    "lst[0],lst[1]=12\n",
    "print(lst)"
   ]
  },
  {
   "cell_type": "code",
   "execution_count": 62,
   "id": "b1a79135",
   "metadata": {},
   "outputs": [
    {
     "name": "stdout",
     "output_type": "stream",
     "text": [
      "['1', '2', '3', '4', '5', '6', '7', '8', '9']\n"
     ]
    }
   ],
   "source": [
    "x= \"1,2,3,4,5,6,7,8,9,0\"\n",
    "y = x.split(\",\")\n",
    "y.pop()\n",
    "print(y)"
   ]
  }
 ],
 "metadata": {
  "kernelspec": {
   "display_name": "Python 3 (ipykernel)",
   "language": "python",
   "name": "python3"
  },
  "language_info": {
   "codemirror_mode": {
    "name": "ipython",
    "version": 3
   },
   "file_extension": ".py",
   "mimetype": "text/x-python",
   "name": "python",
   "nbconvert_exporter": "python",
   "pygments_lexer": "ipython3",
   "version": "3.9.13"
  }
 },
 "nbformat": 4,
 "nbformat_minor": 5
}
