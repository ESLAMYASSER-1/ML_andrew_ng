{
 "cells": [
  {
   "cell_type": "code",
   "execution_count": 5,
   "id": "8a643fd6",
   "metadata": {},
   "outputs": [],
   "source": [
    "def RVA(x:list):\n",
    "    location =x[0].upper()\n",
    "    status= x[1].upper()\n",
    "    if status ==\"DIRTY\":\n",
    "        return \"SUCK\"\n",
    "    elif location == \"A\":\n",
    "        return \"RIGHT\"\n",
    "    elif location == \"B\":\n",
    "        return \"LEFT\"\n",
    "    else:\n",
    "        return \"Enter valid values\""
   ]
  },
  {
   "cell_type": "code",
   "execution_count": 304,
   "id": "5ed1fc55",
   "metadata": {
    "scrolled": true
   },
   "outputs": [
    {
     "data": {
      "text/plain": [
       "'SUCK'"
      ]
     },
     "execution_count": 304,
     "metadata": {},
     "output_type": "execute_result"
    }
   ],
   "source": [
    "RVA([\"b\",\"Dirty\"])"
   ]
  },
  {
   "cell_type": "code",
   "execution_count": 234,
   "id": "43e4394c",
   "metadata": {},
   "outputs": [],
   "source": [
    "import random\n",
    "def TDA(percept):\n",
    "    percepts=[[\"hi\",\"hello\",\"welcome\",\"hey there\",\"nice to meet you\",\"what's up\",\"how are you feeling today\",\"what's going on\"]\n",
    "             ,[\"bye\",\"good by\",\"bye-bye\",\"see you\",\"I'am out\",\"Take care\",\"see you soon\",\"talk to you later\"]]\n",
    "    for state in percepts:\n",
    "        for word in state:\n",
    "            if(percept.upper() in word.upper()):\n",
    "                print(random.choice(state))\n",
    "                break"
   ]
  },
  {
   "cell_type": "code",
   "execution_count": 303,
   "id": "d246e204",
   "metadata": {},
   "outputs": [
    {
     "name": "stdout",
     "output_type": "stream",
     "text": [
      "what's going on\n"
     ]
    }
   ],
   "source": [
    "TDA(\"hi\")"
   ]
  },
  {
   "cell_type": "code",
   "execution_count": null,
   "id": "1ff73084",
   "metadata": {},
   "outputs": [],
   "source": []
  }
 ],
 "metadata": {
  "kernelspec": {
   "display_name": "Python 3 (ipykernel)",
   "language": "python",
   "name": "python3"
  },
  "language_info": {
   "codemirror_mode": {
    "name": "ipython",
    "version": 3
   },
   "file_extension": ".py",
   "mimetype": "text/x-python",
   "name": "python",
   "nbconvert_exporter": "python",
   "pygments_lexer": "ipython3",
   "version": "3.9.13"
  }
 },
 "nbformat": 4,
 "nbformat_minor": 5
}
